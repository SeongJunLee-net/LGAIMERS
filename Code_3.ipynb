{
 "cells": [
  {
   "cell_type": "code",
   "execution_count": 22,
   "metadata": {},
   "outputs": [],
   "source": [
    "import pandas as pd"
   ]
  },
  {
   "cell_type": "code",
   "execution_count": 23,
   "metadata": {},
   "outputs": [],
   "source": [
    "train = pd.read_csv('./data/train.csv')\n",
    "test = pd.read_csv('./data/test.csv')"
   ]
  },
  {
   "cell_type": "code",
   "execution_count": 24,
   "metadata": {},
   "outputs": [
    {
     "data": {
      "text/html": [
       "<div>\n",
       "<style scoped>\n",
       "    .dataframe tbody tr th:only-of-type {\n",
       "        vertical-align: middle;\n",
       "    }\n",
       "\n",
       "    .dataframe tbody tr th {\n",
       "        vertical-align: top;\n",
       "    }\n",
       "\n",
       "    .dataframe thead th {\n",
       "        text-align: right;\n",
       "    }\n",
       "</style>\n",
       "<table border=\"1\" class=\"dataframe\">\n",
       "  <thead>\n",
       "    <tr style=\"text-align: right;\">\n",
       "      <th></th>\n",
       "      <th>Wip Line_Dam</th>\n",
       "      <th>Process Desc._Dam</th>\n",
       "      <th>Equipment_Dam</th>\n",
       "      <th>Model.Suffix_Dam</th>\n",
       "      <th>Workorder_Dam</th>\n",
       "      <th>Insp. Seq No._Dam</th>\n",
       "      <th>Insp Judge Code_Dam</th>\n",
       "      <th>CURE END POSITION X Collect Result_Dam</th>\n",
       "      <th>CURE END POSITION Z Collect Result_Dam</th>\n",
       "      <th>CURE END POSITION Θ Collect Result_Dam</th>\n",
       "      <th>...</th>\n",
       "      <th>Head Clean Position Z Collect Result_Fill2</th>\n",
       "      <th>Head Purge Position X Collect Result_Fill2</th>\n",
       "      <th>Head Purge Position Y Collect Result_Fill2</th>\n",
       "      <th>Head Purge Position Z Collect Result_Fill2</th>\n",
       "      <th>Machine Tact time Collect Result_Fill2</th>\n",
       "      <th>PalletID Collect Result_Fill2</th>\n",
       "      <th>Production Qty Collect Result_Fill2</th>\n",
       "      <th>Receip No Collect Result_Fill2</th>\n",
       "      <th>WorkMode Collect Result_Fill2</th>\n",
       "      <th>target</th>\n",
       "    </tr>\n",
       "  </thead>\n",
       "  <tbody>\n",
       "    <tr>\n",
       "      <th>0</th>\n",
       "      <td>IVI-OB6</td>\n",
       "      <td>Dam Dispenser</td>\n",
       "      <td>Dam dispenser #1</td>\n",
       "      <td>AJX75334505</td>\n",
       "      <td>4F1XA938-1</td>\n",
       "      <td>1</td>\n",
       "      <td>OK</td>\n",
       "      <td>240.0</td>\n",
       "      <td>2.5</td>\n",
       "      <td>-90</td>\n",
       "      <td>...</td>\n",
       "      <td>50.0</td>\n",
       "      <td>91.8</td>\n",
       "      <td>270</td>\n",
       "      <td>50</td>\n",
       "      <td>114.612</td>\n",
       "      <td>19.9</td>\n",
       "      <td>7</td>\n",
       "      <td>127</td>\n",
       "      <td>1</td>\n",
       "      <td>Normal</td>\n",
       "    </tr>\n",
       "    <tr>\n",
       "      <th>1</th>\n",
       "      <td>IVI-OB6</td>\n",
       "      <td>Dam Dispenser</td>\n",
       "      <td>Dam dispenser #1</td>\n",
       "      <td>AJX75334505</td>\n",
       "      <td>3KPM0016-2</td>\n",
       "      <td>1</td>\n",
       "      <td>OK</td>\n",
       "      <td>240.0</td>\n",
       "      <td>2.5</td>\n",
       "      <td>-90</td>\n",
       "      <td>...</td>\n",
       "      <td>91.8</td>\n",
       "      <td>270.0</td>\n",
       "      <td>50</td>\n",
       "      <td>85</td>\n",
       "      <td>19.600</td>\n",
       "      <td>7.0</td>\n",
       "      <td>185</td>\n",
       "      <td>1</td>\n",
       "      <td>0</td>\n",
       "      <td>Normal</td>\n",
       "    </tr>\n",
       "    <tr>\n",
       "      <th>2</th>\n",
       "      <td>IVI-OB6</td>\n",
       "      <td>Dam Dispenser</td>\n",
       "      <td>Dam dispenser #2</td>\n",
       "      <td>AJX75334501</td>\n",
       "      <td>4E1X9167-1</td>\n",
       "      <td>1</td>\n",
       "      <td>OK</td>\n",
       "      <td>1000.0</td>\n",
       "      <td>12.5</td>\n",
       "      <td>90</td>\n",
       "      <td>...</td>\n",
       "      <td>50.0</td>\n",
       "      <td>91.8</td>\n",
       "      <td>270</td>\n",
       "      <td>50</td>\n",
       "      <td>114.612</td>\n",
       "      <td>19.8</td>\n",
       "      <td>10</td>\n",
       "      <td>73</td>\n",
       "      <td>1</td>\n",
       "      <td>Normal</td>\n",
       "    </tr>\n",
       "    <tr>\n",
       "      <th>3</th>\n",
       "      <td>IVI-OB6</td>\n",
       "      <td>Dam Dispenser</td>\n",
       "      <td>Dam dispenser #2</td>\n",
       "      <td>AJX75334501</td>\n",
       "      <td>3K1X0057-1</td>\n",
       "      <td>1</td>\n",
       "      <td>OK</td>\n",
       "      <td>1000.0</td>\n",
       "      <td>12.5</td>\n",
       "      <td>90</td>\n",
       "      <td>...</td>\n",
       "      <td>91.8</td>\n",
       "      <td>270.0</td>\n",
       "      <td>50</td>\n",
       "      <td>85</td>\n",
       "      <td>19.900</td>\n",
       "      <td>12.0</td>\n",
       "      <td>268</td>\n",
       "      <td>1</td>\n",
       "      <td>0</td>\n",
       "      <td>Normal</td>\n",
       "    </tr>\n",
       "    <tr>\n",
       "      <th>4</th>\n",
       "      <td>IVI-OB6</td>\n",
       "      <td>Dam Dispenser</td>\n",
       "      <td>Dam dispenser #1</td>\n",
       "      <td>AJX75334501</td>\n",
       "      <td>3HPM0007-1</td>\n",
       "      <td>1</td>\n",
       "      <td>OK</td>\n",
       "      <td>240.0</td>\n",
       "      <td>2.5</td>\n",
       "      <td>-90</td>\n",
       "      <td>...</td>\n",
       "      <td>91.8</td>\n",
       "      <td>270.0</td>\n",
       "      <td>50</td>\n",
       "      <td>85</td>\n",
       "      <td>19.700</td>\n",
       "      <td>8.0</td>\n",
       "      <td>121</td>\n",
       "      <td>1</td>\n",
       "      <td>0</td>\n",
       "      <td>Normal</td>\n",
       "    </tr>\n",
       "    <tr>\n",
       "      <th>...</th>\n",
       "      <td>...</td>\n",
       "      <td>...</td>\n",
       "      <td>...</td>\n",
       "      <td>...</td>\n",
       "      <td>...</td>\n",
       "      <td>...</td>\n",
       "      <td>...</td>\n",
       "      <td>...</td>\n",
       "      <td>...</td>\n",
       "      <td>...</td>\n",
       "      <td>...</td>\n",
       "      <td>...</td>\n",
       "      <td>...</td>\n",
       "      <td>...</td>\n",
       "      <td>...</td>\n",
       "      <td>...</td>\n",
       "      <td>...</td>\n",
       "      <td>...</td>\n",
       "      <td>...</td>\n",
       "      <td>...</td>\n",
       "      <td>...</td>\n",
       "    </tr>\n",
       "    <tr>\n",
       "      <th>40501</th>\n",
       "      <td>IVI-OB6</td>\n",
       "      <td>Dam Dispenser</td>\n",
       "      <td>Dam dispenser #1</td>\n",
       "      <td>AJX75334501</td>\n",
       "      <td>3J1XF434-2</td>\n",
       "      <td>1</td>\n",
       "      <td>OK</td>\n",
       "      <td>240.0</td>\n",
       "      <td>2.5</td>\n",
       "      <td>-90</td>\n",
       "      <td>...</td>\n",
       "      <td>91.8</td>\n",
       "      <td>270.0</td>\n",
       "      <td>50</td>\n",
       "      <td>85</td>\n",
       "      <td>19.200</td>\n",
       "      <td>1.0</td>\n",
       "      <td>318</td>\n",
       "      <td>1</td>\n",
       "      <td>0</td>\n",
       "      <td>Normal</td>\n",
       "    </tr>\n",
       "    <tr>\n",
       "      <th>40502</th>\n",
       "      <td>IVI-OB6</td>\n",
       "      <td>Dam Dispenser</td>\n",
       "      <td>Dam dispenser #2</td>\n",
       "      <td>AJX75334501</td>\n",
       "      <td>4E1XC796-1</td>\n",
       "      <td>1</td>\n",
       "      <td>OK</td>\n",
       "      <td>1000.0</td>\n",
       "      <td>12.5</td>\n",
       "      <td>90</td>\n",
       "      <td>...</td>\n",
       "      <td>50.0</td>\n",
       "      <td>91.8</td>\n",
       "      <td>270</td>\n",
       "      <td>50</td>\n",
       "      <td>114.612</td>\n",
       "      <td>20.5</td>\n",
       "      <td>14</td>\n",
       "      <td>197</td>\n",
       "      <td>1</td>\n",
       "      <td>Normal</td>\n",
       "    </tr>\n",
       "    <tr>\n",
       "      <th>40503</th>\n",
       "      <td>IVI-OB6</td>\n",
       "      <td>Dam Dispenser</td>\n",
       "      <td>Dam dispenser #1</td>\n",
       "      <td>AJX75334501</td>\n",
       "      <td>4C1XD438-1</td>\n",
       "      <td>1</td>\n",
       "      <td>OK</td>\n",
       "      <td>240.0</td>\n",
       "      <td>2.5</td>\n",
       "      <td>-90</td>\n",
       "      <td>...</td>\n",
       "      <td>50.0</td>\n",
       "      <td>91.8</td>\n",
       "      <td>270</td>\n",
       "      <td>50</td>\n",
       "      <td>85.000</td>\n",
       "      <td>19.7</td>\n",
       "      <td>1</td>\n",
       "      <td>27</td>\n",
       "      <td>1</td>\n",
       "      <td>Normal</td>\n",
       "    </tr>\n",
       "    <tr>\n",
       "      <th>40504</th>\n",
       "      <td>IVI-OB6</td>\n",
       "      <td>Dam Dispenser</td>\n",
       "      <td>Dam dispenser #2</td>\n",
       "      <td>AJX75334501</td>\n",
       "      <td>3I1XA258-1</td>\n",
       "      <td>1</td>\n",
       "      <td>OK</td>\n",
       "      <td>1000.0</td>\n",
       "      <td>12.5</td>\n",
       "      <td>90</td>\n",
       "      <td>...</td>\n",
       "      <td>91.8</td>\n",
       "      <td>270.0</td>\n",
       "      <td>50</td>\n",
       "      <td>85</td>\n",
       "      <td>20.100</td>\n",
       "      <td>13.0</td>\n",
       "      <td>117</td>\n",
       "      <td>1</td>\n",
       "      <td>0</td>\n",
       "      <td>Normal</td>\n",
       "    </tr>\n",
       "    <tr>\n",
       "      <th>40505</th>\n",
       "      <td>IVI-OB6</td>\n",
       "      <td>Dam Dispenser</td>\n",
       "      <td>Dam dispenser #1</td>\n",
       "      <td>AJX75334501</td>\n",
       "      <td>3G1XA501-1</td>\n",
       "      <td>1</td>\n",
       "      <td>OK</td>\n",
       "      <td>240.0</td>\n",
       "      <td>2.5</td>\n",
       "      <td>-90</td>\n",
       "      <td>...</td>\n",
       "      <td>91.8</td>\n",
       "      <td>270.0</td>\n",
       "      <td>50</td>\n",
       "      <td>85</td>\n",
       "      <td>19.400</td>\n",
       "      <td>3.0</td>\n",
       "      <td>320</td>\n",
       "      <td>1</td>\n",
       "      <td>0</td>\n",
       "      <td>AbNormal</td>\n",
       "    </tr>\n",
       "  </tbody>\n",
       "</table>\n",
       "<p>40506 rows × 181 columns</p>\n",
       "</div>"
      ],
      "text/plain": [
       "      Wip Line_Dam Process Desc._Dam     Equipment_Dam Model.Suffix_Dam  \\\n",
       "0          IVI-OB6     Dam Dispenser  Dam dispenser #1      AJX75334505   \n",
       "1          IVI-OB6     Dam Dispenser  Dam dispenser #1      AJX75334505   \n",
       "2          IVI-OB6     Dam Dispenser  Dam dispenser #2      AJX75334501   \n",
       "3          IVI-OB6     Dam Dispenser  Dam dispenser #2      AJX75334501   \n",
       "4          IVI-OB6     Dam Dispenser  Dam dispenser #1      AJX75334501   \n",
       "...            ...               ...               ...              ...   \n",
       "40501      IVI-OB6     Dam Dispenser  Dam dispenser #1      AJX75334501   \n",
       "40502      IVI-OB6     Dam Dispenser  Dam dispenser #2      AJX75334501   \n",
       "40503      IVI-OB6     Dam Dispenser  Dam dispenser #1      AJX75334501   \n",
       "40504      IVI-OB6     Dam Dispenser  Dam dispenser #2      AJX75334501   \n",
       "40505      IVI-OB6     Dam Dispenser  Dam dispenser #1      AJX75334501   \n",
       "\n",
       "      Workorder_Dam  Insp. Seq No._Dam Insp Judge Code_Dam  \\\n",
       "0        4F1XA938-1                  1                  OK   \n",
       "1        3KPM0016-2                  1                  OK   \n",
       "2        4E1X9167-1                  1                  OK   \n",
       "3        3K1X0057-1                  1                  OK   \n",
       "4        3HPM0007-1                  1                  OK   \n",
       "...             ...                ...                 ...   \n",
       "40501    3J1XF434-2                  1                  OK   \n",
       "40502    4E1XC796-1                  1                  OK   \n",
       "40503    4C1XD438-1                  1                  OK   \n",
       "40504    3I1XA258-1                  1                  OK   \n",
       "40505    3G1XA501-1                  1                  OK   \n",
       "\n",
       "       CURE END POSITION X Collect Result_Dam  \\\n",
       "0                                       240.0   \n",
       "1                                       240.0   \n",
       "2                                      1000.0   \n",
       "3                                      1000.0   \n",
       "4                                       240.0   \n",
       "...                                       ...   \n",
       "40501                                   240.0   \n",
       "40502                                  1000.0   \n",
       "40503                                   240.0   \n",
       "40504                                  1000.0   \n",
       "40505                                   240.0   \n",
       "\n",
       "       CURE END POSITION Z Collect Result_Dam  \\\n",
       "0                                         2.5   \n",
       "1                                         2.5   \n",
       "2                                        12.5   \n",
       "3                                        12.5   \n",
       "4                                         2.5   \n",
       "...                                       ...   \n",
       "40501                                     2.5   \n",
       "40502                                    12.5   \n",
       "40503                                     2.5   \n",
       "40504                                    12.5   \n",
       "40505                                     2.5   \n",
       "\n",
       "       CURE END POSITION Θ Collect Result_Dam  ...  \\\n",
       "0                                         -90  ...   \n",
       "1                                         -90  ...   \n",
       "2                                          90  ...   \n",
       "3                                          90  ...   \n",
       "4                                         -90  ...   \n",
       "...                                       ...  ...   \n",
       "40501                                     -90  ...   \n",
       "40502                                      90  ...   \n",
       "40503                                     -90  ...   \n",
       "40504                                      90  ...   \n",
       "40505                                     -90  ...   \n",
       "\n",
       "       Head Clean Position Z Collect Result_Fill2  \\\n",
       "0                                            50.0   \n",
       "1                                            91.8   \n",
       "2                                            50.0   \n",
       "3                                            91.8   \n",
       "4                                            91.8   \n",
       "...                                           ...   \n",
       "40501                                        91.8   \n",
       "40502                                        50.0   \n",
       "40503                                        50.0   \n",
       "40504                                        91.8   \n",
       "40505                                        91.8   \n",
       "\n",
       "       Head Purge Position X Collect Result_Fill2  \\\n",
       "0                                            91.8   \n",
       "1                                           270.0   \n",
       "2                                            91.8   \n",
       "3                                           270.0   \n",
       "4                                           270.0   \n",
       "...                                           ...   \n",
       "40501                                       270.0   \n",
       "40502                                        91.8   \n",
       "40503                                        91.8   \n",
       "40504                                       270.0   \n",
       "40505                                       270.0   \n",
       "\n",
       "       Head Purge Position Y Collect Result_Fill2  \\\n",
       "0                                             270   \n",
       "1                                              50   \n",
       "2                                             270   \n",
       "3                                              50   \n",
       "4                                              50   \n",
       "...                                           ...   \n",
       "40501                                          50   \n",
       "40502                                         270   \n",
       "40503                                         270   \n",
       "40504                                          50   \n",
       "40505                                          50   \n",
       "\n",
       "       Head Purge Position Z Collect Result_Fill2  \\\n",
       "0                                              50   \n",
       "1                                              85   \n",
       "2                                              50   \n",
       "3                                              85   \n",
       "4                                              85   \n",
       "...                                           ...   \n",
       "40501                                          85   \n",
       "40502                                          50   \n",
       "40503                                          50   \n",
       "40504                                          85   \n",
       "40505                                          85   \n",
       "\n",
       "       Machine Tact time Collect Result_Fill2  PalletID Collect Result_Fill2  \\\n",
       "0                                     114.612                           19.9   \n",
       "1                                      19.600                            7.0   \n",
       "2                                     114.612                           19.8   \n",
       "3                                      19.900                           12.0   \n",
       "4                                      19.700                            8.0   \n",
       "...                                       ...                            ...   \n",
       "40501                                  19.200                            1.0   \n",
       "40502                                 114.612                           20.5   \n",
       "40503                                  85.000                           19.7   \n",
       "40504                                  20.100                           13.0   \n",
       "40505                                  19.400                            3.0   \n",
       "\n",
       "       Production Qty Collect Result_Fill2  Receip No Collect Result_Fill2  \\\n",
       "0                                        7                             127   \n",
       "1                                      185                               1   \n",
       "2                                       10                              73   \n",
       "3                                      268                               1   \n",
       "4                                      121                               1   \n",
       "...                                    ...                             ...   \n",
       "40501                                  318                               1   \n",
       "40502                                   14                             197   \n",
       "40503                                    1                              27   \n",
       "40504                                  117                               1   \n",
       "40505                                  320                               1   \n",
       "\n",
       "       WorkMode Collect Result_Fill2    target  \n",
       "0                                  1    Normal  \n",
       "1                                  0    Normal  \n",
       "2                                  1    Normal  \n",
       "3                                  0    Normal  \n",
       "4                                  0    Normal  \n",
       "...                              ...       ...  \n",
       "40501                              0    Normal  \n",
       "40502                              1    Normal  \n",
       "40503                              1    Normal  \n",
       "40504                              0    Normal  \n",
       "40505                              0  AbNormal  \n",
       "\n",
       "[40506 rows x 181 columns]"
      ]
     },
     "execution_count": 24,
     "metadata": {},
     "output_type": "execute_result"
    }
   ],
   "source": [
    "# 절반 이상이 NaN인 데이터 column 드롭\n",
    "drop_col = train.loc[:,(train.isna().sum(axis=0)>=len(train)/2).values].columns\n",
    "train.drop(columns = drop_col,inplace = True)\n",
    "train"
   ]
  },
  {
   "cell_type": "code",
   "execution_count": 25,
   "metadata": {},
   "outputs": [
    {
     "data": {
      "text/plain": [
       "Wip Line_Dam  Process Desc._Dam  Equipment_Dam     Model.Suffix_Dam  Workorder_Dam  Insp. Seq No._Dam  Insp Judge Code_Dam  CURE END POSITION X Collect Result_Dam  CURE END POSITION Z Collect Result_Dam  CURE END POSITION Θ Collect Result_Dam  CURE SPEED Collect Result_Dam  CURE STANDBY POSITION X Collect Result_Dam  CURE STANDBY POSITION Z Collect Result_Dam  CURE STANDBY POSITION Θ Collect Result_Dam  CURE START POSITION X Collect Result_Dam  CURE START POSITION Z Collect Result_Dam  CURE START POSITION Θ Collect Result_Dam  DISCHARGED SPEED OF RESIN Collect Result_Dam  DISCHARGED TIME OF RESIN(Stage1) Collect Result_Dam  DISCHARGED TIME OF RESIN(Stage2) Collect Result_Dam  DISCHARGED TIME OF RESIN(Stage3) Collect Result_Dam  Dispense Volume(Stage1) Collect Result_Dam  Dispense Volume(Stage2) Collect Result_Dam  Dispense Volume(Stage3) Collect Result_Dam  HEAD NORMAL COORDINATE X AXIS(Stage1) Collect Result_Dam  HEAD NORMAL COORDINATE X AXIS(Stage2) Collect Result_Dam  HEAD NORMAL COORDINATE X AXIS(Stage3) Collect Result_Dam  HEAD NORMAL COORDINATE Y AXIS(Stage1) Collect Result_Dam  HEAD NORMAL COORDINATE Y AXIS(Stage2) Collect Result_Dam  HEAD NORMAL COORDINATE Y AXIS(Stage3) Collect Result_Dam  HEAD NORMAL COORDINATE Z AXIS(Stage1) Collect Result_Dam  HEAD NORMAL COORDINATE Z AXIS(Stage2) Collect Result_Dam  HEAD NORMAL COORDINATE Z AXIS(Stage3) Collect Result_Dam  HEAD Standby Position X Collect Result_Dam  HEAD Standby Position Y Collect Result_Dam  HEAD Standby Position Z Collect Result_Dam  Head Clean Position X Collect Result_Dam  Head Clean Position Y Collect Result_Dam  Head Clean Position Z Collect Result_Dam  Head Purge Position X Collect Result_Dam  Head Purge Position Y Collect Result_Dam  Head Purge Position Z Collect Result_Dam  Head Zero Position X Collect Result_Dam  Head Zero Position Y Collect Result_Dam  Head Zero Position Z Collect Result_Dam  Machine Tact time Collect Result_Dam  PalletID Collect Result_Dam  Production Qty Collect Result_Dam  Receip No Collect Result_Dam  Stage1 Circle1 Distance Speed Collect Result_Dam  Stage1 Circle2 Distance Speed Collect Result_Dam  Stage1 Circle3 Distance Speed Collect Result_Dam  Stage1 Circle4 Distance Speed Collect Result_Dam  Stage1 Line1 Distance Speed Collect Result_Dam  Stage1 Line2 Distance Speed Collect Result_Dam  Stage1 Line3 Distance Speed Collect Result_Dam  Stage1 Line4 Distance Speed Collect Result_Dam  Stage2 Circle1 Distance Speed Collect Result_Dam  Stage2 Circle2 Distance Speed Collect Result_Dam  Stage2 Circle3 Distance Speed Collect Result_Dam  Stage2 Circle4 Distance Speed Collect Result_Dam  Stage2 Line1 Distance Speed Collect Result_Dam  Stage2 Line2 Distance Speed Collect Result_Dam  Stage2 Line3 Distance Speed Collect Result_Dam  Stage2 Line4 Distance Speed Collect Result_Dam  Stage3 Circle1 Distance Speed Collect Result_Dam  Stage3 Circle2 Distance Speed Collect Result_Dam  Stage3 Circle3 Distance Speed Collect Result_Dam  Stage3 Circle4 Distance Speed Collect Result_Dam  Stage3 Line1 Distance Speed Collect Result_Dam  Stage3 Line2 Distance Speed Collect Result_Dam  Stage3 Line3 Distance Speed Collect Result_Dam  Stage3 Line4 Distance Speed Collect Result_Dam  THICKNESS 1 Collect Result_Dam  THICKNESS 2 Collect Result_Dam  THICKNESS 3 Collect Result_Dam  WorkMode Collect Result_Dam  Wip Line_AutoClave  Process Desc._AutoClave  Equipment_AutoClave  Model.Suffix_AutoClave  Workorder_AutoClave  Insp. Seq No._AutoClave  Insp Judge Code_AutoClave  1st Pressure Collect Result_AutoClave  1st Pressure 1st Pressure Unit Time_AutoClave  1st Pressure Judge Value_AutoClave  2nd Pressure Collect Result_AutoClave  2nd Pressure Unit Time_AutoClave  2nd Pressure Judge Value_AutoClave  3rd Pressure Collect Result_AutoClave  3rd Pressure Unit Time_AutoClave  3rd Pressure Judge Value_AutoClave  Chamber Temp. Collect Result_AutoClave  Chamber Temp. Unit Time_AutoClave  Chamber Temp. Judge Value_AutoClave  Wip Line_Fill1  Process Desc._Fill1  Equipment_Fill1     Model.Suffix_Fill1  Workorder_Fill1  Insp. Seq No._Fill1  Insp Judge Code_Fill1  DISCHARGED SPEED OF RESIN Collect Result_Fill1  DISCHARGED TIME OF RESIN(Stage1) Collect Result_Fill1  DISCHARGED TIME OF RESIN(Stage2) Collect Result_Fill1  DISCHARGED TIME OF RESIN(Stage3) Collect Result_Fill1  Dispense Volume(Stage1) Collect Result_Fill1  Dispense Volume(Stage2) Collect Result_Fill1  Dispense Volume(Stage3) Collect Result_Fill1  HEAD NORMAL COORDINATE X AXIS(Stage1) Collect Result_Fill1  HEAD NORMAL COORDINATE X AXIS(Stage2) Collect Result_Fill1  HEAD NORMAL COORDINATE X AXIS(Stage3) Collect Result_Fill1  HEAD NORMAL COORDINATE Y AXIS(Stage1) Collect Result_Fill1  HEAD NORMAL COORDINATE Y AXIS(Stage2) Collect Result_Fill1  HEAD NORMAL COORDINATE Y AXIS(Stage3) Collect Result_Fill1  HEAD NORMAL COORDINATE Z AXIS(Stage1) Collect Result_Fill1  HEAD NORMAL COORDINATE Z AXIS(Stage2) Collect Result_Fill1  HEAD NORMAL COORDINATE Z AXIS(Stage3) Collect Result_Fill1  HEAD Standby Position X Collect Result_Fill1  HEAD Standby Position Y Collect Result_Fill1  HEAD Standby Position Z Collect Result_Fill1  Head Clean Position X Collect Result_Fill1  Head Clean Position Y Collect Result_Fill1  Head Clean Position Z Collect Result_Fill1  Head Purge Position X Collect Result_Fill1  Head Purge Position Y Collect Result_Fill1  Head Purge Position Z Collect Result_Fill1  Machine Tact time Collect Result_Fill1  PalletID Collect Result_Fill1  Production Qty Collect Result_Fill1  Receip No Collect Result_Fill1  WorkMode Collect Result_Fill1  Wip Line_Fill2  Process Desc._Fill2  Equipment_Fill2     Model.Suffix_Fill2  Workorder_Fill2  Insp. Seq No._Fill2  Insp Judge Code_Fill2  CURE END POSITION X Collect Result_Fill2  CURE END POSITION Z Collect Result_Fill2  CURE END POSITION Θ Collect Result_Fill2  CURE SPEED Collect Result_Fill2  CURE STANDBY POSITION X Collect Result_Fill2  CURE STANDBY POSITION Z Collect Result_Fill2  CURE STANDBY POSITION Θ Collect Result_Fill2  CURE START POSITION X Collect Result_Fill2  CURE START POSITION Z Collect Result_Fill2  CURE START POSITION Θ Collect Result_Fill2  DISCHARGED SPEED OF RESIN Collect Result_Fill2  DISCHARGED TIME OF RESIN(Stage1) Collect Result_Fill2  DISCHARGED TIME OF RESIN(Stage2) Collect Result_Fill2  DISCHARGED TIME OF RESIN(Stage3) Collect Result_Fill2  Dispense Volume(Stage1) Collect Result_Fill2  Dispense Volume(Stage2) Collect Result_Fill2  Dispense Volume(Stage3) Collect Result_Fill2  HEAD NORMAL COORDINATE X AXIS(Stage1) Collect Result_Fill2  HEAD NORMAL COORDINATE X AXIS(Stage2) Collect Result_Fill2  HEAD NORMAL COORDINATE X AXIS(Stage3) Collect Result_Fill2  HEAD NORMAL COORDINATE Y AXIS(Stage1) Collect Result_Fill2  HEAD NORMAL COORDINATE Y AXIS(Stage2) Collect Result_Fill2  HEAD NORMAL COORDINATE Y AXIS(Stage3) Collect Result_Fill2  HEAD NORMAL COORDINATE Z AXIS(Stage1) Collect Result_Fill2  HEAD NORMAL COORDINATE Z AXIS(Stage2) Collect Result_Fill2  HEAD NORMAL COORDINATE Z AXIS(Stage3) Collect Result_Fill2  HEAD Standby Position X Collect Result_Fill2  HEAD Standby Position Y Collect Result_Fill2  HEAD Standby Position Z Collect Result_Fill2  Head Clean Position X Collect Result_Fill2  Head Clean Position Y Collect Result_Fill2  Head Clean Position Z Collect Result_Fill2  Head Purge Position X Collect Result_Fill2  Head Purge Position Y Collect Result_Fill2  Head Purge Position Z Collect Result_Fill2  Machine Tact time Collect Result_Fill2  PalletID Collect Result_Fill2  Production Qty Collect Result_Fill2  Receip No Collect Result_Fill2  WorkMode Collect Result_Fill2  target\n",
       "IVI-OB6       Dam Dispenser      Dam dispenser #1  AJX75334501       3F1X5847-2     1                  OK                   240.0                                   2.5                                     -90                                     70                             1150                                        33.5                                        0                                           1030                                      33.5                                      -90                                       10                                            11.6                                                 3.8                                                  11.6                                                 0.81                                        0.26                                        0.81                                        549                                                       463.0                                                     160.5                                                     377.5                                                     377.0                                                     377.5                                                     284.80                                                    284.800                                                   284.800                                                   257.000                                     66                                          0                                           127.5                                     66.0                                      124.50                                    257.00                                    66                                        124.50                                    505.00                                   303.5                                    265.0                                    91.20                                 1.0                          35                                 1                             9000                                              9000                                              9000                                              9000                                              7000                                            9000                                            7000                                            9000                                            12000                                             12000                                             12000                                             12000                                             12000                                           12000                                           12000                                           12000                                           9000                                              9000                                              9000                                              9000                                              7000                                            9000                                            7000                                            9000                                            0                               0.0                             0.0                             7.0                          IVI-OB6             Auto Clave Out           Auto Clave Out       AJX75334501             3F1X5847-2           1                        OK                         0.316                                  300                                            OK                                  0.500                                  120                               OK                                  0.500                                  90                                OK                                  51                                      510                                OK                                   IVI-OB6         Fill1 Dispenser      Fill1 dispenser #1  AJX75334501         3F1X5847-2       1                    OK                     10.9                                            13.3                                                   4.9                                                    13.2                                                   12.63                                         4.65                                          12.54                                         838.2                                                       460.0                                                       158.0                                                       430.2                                                       430.5                                                       430.6                                                       244.3                                                       244.300                                                     244.300                                                     289.000                                       50                                            0                                             123.4                                       50.0                                        92.2                                        289.0                                       50                                          85                                          111.0                                   1.0                            35                                   1                               7                              IVI-OB6         Fill2 Dispenser      Fill2 dispenser #1  AJX75334501         3F1X5847-2       1                    OK                     240                                       32                                        -90                                       55                               1020                                          32                                            0                                             1020                                        32                                          90                                          0                                               0                                                      0.0                                                    0                                                      0                                             0.0                                           0                                             835.5                                                       458.0                                                       156.0                                                       428.0                                                       427.9                                                       428.0                                                       243.7                                                       243.7                                                       243.7                                                       270.0                                         50                                            -10                                            119                                        50                                          91.8                                        270.0                                       50                                          85                                          18.1                                    1.0                            35                                   1                               0                              Normal    1\n",
       "                                                   AJX75334507       4BPM0001-1     1                  OK                   240.0                                   2.5                                     -90                                     100                            1150                                        33.5                                        0                                           1030                                      33.5                                      -90                                       16                                            14.7                                                 8.5                                                  14.7                                                 1.02                                        0.59                                        1.02                                        OK                                                        550.6                                                     463.9                                                     161.5                                                     377.6                                                     377.1                                                     378.00                                                    274.510                                                   274.510                                                   274.510                                     257                                         66                                          0.0                                       127.5                                     66.00                                     124.00                                    257                                       66.00                                     130.85                                   505.0                                    300.0                                    265.02                                75.0                         8                                  133                           1                                                 5800                                              5800                                              5800                                              5800                                            5800                                            5800                                            5800                                            5800                                              5300                                              5300                                              5300                                              5300                                            5300                                            5300                                            5300                                            5300                                              5800                                              5800                                              5800                                              5800                                            5800                                            5800                                            5800                                            5800                            0.0                             0.0                             0.0                          IVI-OB6             Auto Clave Out           Auto Clave Out       AJX75334507             4BPM0001-1           1                        OK                         0.298                                  241                                            OK                                  0.490                                  1                                 OK                                  0.500                                  121                               OK                                  51                                      363                                OK                                   IVI-OB6         Fill1 Dispenser      Fill1 dispenser #1  AJX75334507         4BPM0001-1       1                    OK                     10.6                                            13.4                                                   3.6                                                    13.5                                                   12.73                                         3.42                                          12.82                                         OK                                                          838.4                                                       458.4                                                       157.0                                                       430.8                                                       430.5                                                       431.1                                                       244.490                                                     244.490                                                     244.490                                       289                                           50                                            0.0                                         123.4                                       50.0                                        92.2                                        289                                         50                                          128.0                                   57.3                           8                                    133                             1                              IVI-OB6         Fill2 Dispenser      Fill2 dispenser #1  AJX75334507         4BPM0001-1       1                    OK                     240                                       33                                        -90                                       50                               1020                                          33                                            0                                             1020                                        33                                          90                                          0                                               0                                                      0.0                                                    0                                                      0                                             0.0                                           0                                             OK                                                          835.5                                                       458.0                                                       156.0                                                       428.0                                                       427.9                                                       428.0                                                       243.7                                                       243.7                                                       243.7                                         270                                            50                                           -10                                         119                                         50.0                                        91.8                                        270                                         50                                          85.0                                    21.6                           8                                    133                             1                              Normal    1\n",
       "                                                   AJX75334508       3LPM0085-1     1                  OK                   240.0                                   2.5                                     -90                                     70                             1150                                        33.5                                        0                                           1030                                      33.5                                      -90                                       16                                            13.1                                                 8.2                                                  13.2                                                 0.91                                        0.57                                        0.92                                        OK                                                        548.9                                                     462.2                                                     159.8                                                     377.6                                                     377.1                                                     377.60                                                    281.517                                                   281.517                                                   281.517                                     257                                         66                                          0.0                                       127.5                                     66.00                                     130.85                                    257                                       66.00                                     130.85                                   505.0                                    300.0                                    265.02                                59.3                         3                                  111                           1                                                 6500                                              6500                                              6500                                              6500                                            6500                                            6500                                            6500                                            6500                                              5500                                              5500                                              5500                                              5500                                            5500                                            5500                                            5500                                            5500                                              6500                                              6500                                              6500                                              6500                                            6500                                            6500                                            6500                                            6500                            0.0                             0.0                             0.0                          IVI-OB6             Auto Clave Out           Auto Clave Out       AJX75334508             3LPM0085-1           1                        OK                         0.310                                  240                                            OK                                  0.490                                  1                                 OK                                  0.499                                  120                               OK                                  53                                      361                                OK                                   IVI-OB6         Fill1 Dispenser      Fill1 dispenser #1  AJX75334508         3LPM0085-1       1                    OK                     10.6                                            12.9                                                   3.6                                                    12.9                                                   12.25                                         3.42                                          12.25                                         OK                                                          837.9                                                       458.4                                                       156.5                                                       430.8                                                       430.5                                                       431.1                                                       244.618                                                     244.618                                                     244.618                                       289                                           50                                            0.0                                         123.4                                       50.0                                        92.2                                        289                                         50                                          128.0                                   56.4                           3                                    111                             1                              IVI-OB6         Fill2 Dispenser      Fill2 dispenser #1  AJX75334508         3LPM0085-1       1                    OK                     240                                       33                                        -90                                       50                               1020                                          33                                            0                                             1020                                        33                                          90                                          0                                               0                                                      0.0                                                    0                                                      0                                             0.0                                           0                                             OK                                                          835.5                                                       458.0                                                       156.0                                                       428.0                                                       427.9                                                       428.0                                                       243.7                                                       243.7                                                       243.7                                         270                                            50                                           -10                                         119                                         50.0                                        91.8                                        270                                         50                                          85.0                                    19.5                           3                                    111                             1                              Normal    1\n",
       "                                                                                                                                                                                                                                                                                                                                                                                                                                                                                                                                                                                                                                                        8.1                                                  13.1                                                 0.91                                        0.56                                        0.91                                        OK                                                        548.9                                                     462.2                                                     159.8                                                     377.6                                                     377.1                                                     377.60                                                    281.517                                                   281.517                                                   281.517                                     257                                         66                                          0.0                                       127.5                                     66.00                                     130.85                                    257                                       66.00                                     130.85                                   505.0                                    300.0                                    265.02                                54.8                         2                                  110                           1                                                 6500                                              6500                                              6500                                              6500                                            6500                                            6500                                            6500                                            6500                                              5500                                              5500                                              5500                                              5500                                            5500                                            5500                                            5500                                            5500                                              6500                                              6500                                              6500                                              6500                                            6500                                            6500                                            6500                                            6500                            0.0                             0.0                             0.0                          IVI-OB6             Auto Clave Out           Auto Clave Out       AJX75334508             3LPM0085-1           1                        OK                         0.306                                  240                                            OK                                  0.491                                  1                                 OK                                  0.498                                  120                               OK                                  50                                      361                                OK                                   IVI-OB6         Fill1 Dispenser      Fill1 dispenser #1  AJX75334508         3LPM0085-1       1                    OK                     10.6                                            12.9                                                   3.6                                                    12.9                                                   12.25                                         3.42                                          12.25                                         OK                                                          837.9                                                       458.4                                                       156.5                                                       430.8                                                       430.5                                                       431.1                                                       244.618                                                     244.618                                                     244.618                                       289                                           50                                            0.0                                         123.4                                       50.0                                        92.2                                        289                                         50                                          128.0                                   53.4                           2                                    110                             1                              IVI-OB6         Fill2 Dispenser      Fill2 dispenser #1  AJX75334508         3LPM0085-1       1                    OK                     240                                       33                                        -90                                       50                               1020                                          33                                            0                                             1020                                        33                                          90                                          0                                               0                                                      0.0                                                    0                                                      0                                             0.0                                           0                                             OK                                                          835.5                                                       458.0                                                       156.0                                                       428.0                                                       427.9                                                       428.0                                                       243.7                                                       243.7                                                       243.7                                         270                                            50                                           -10                                         119                                         50.0                                        91.8                                        270                                         50                                          85.0                                    19.5                           2                                    110                             1                              Normal    1\n",
       "                                                   AJX75334507       4BPM0210-1     1                  OK                   240.0                                   2.5                                     -90                                     100                            1150                                        33.5                                        0                                           1030                                      33.5                                      -90                                       16                                            14.7                                                 8.5                                                  14.7                                                 1.02                                        0.59                                        1.02                                        OK                                                        550.6                                                     463.9                                                     161.5                                                     377.6                                                     377.1                                                     378.00                                                    274.510                                                   274.510                                                   274.510                                     257                                         66                                          0.0                                       127.5                                     66.00                                     124.00                                    257                                       66.00                                     130.85                                   505.0                                    300.0                                    265.02                                75.1                         4                                  191                           1                                                 5800                                              5800                                              5800                                              5800                                            5800                                            5800                                            5800                                            5800                                              5300                                              5300                                              5300                                              5300                                            5300                                            5300                                            5300                                            5300                                              5800                                              5800                                              5800                                              5800                                            5800                                            5800                                            5800                                            5800                            0.0                             0.0                             0.0                          IVI-OB6             Auto Clave Out           Auto Clave Out       AJX75334507             4BPM0210-1           1                        OK                         0.308                                  241                                            OK                                  0.490                                  1                                 OK                                  0.499                                  121                               OK                                  53                                      363                                OK                                   IVI-OB6         Fill1 Dispenser      Fill1 dispenser #1  AJX75334507         4BPM0210-1       1                    OK                     10.6                                            13.4                                                   3.6                                                    13.5                                                   12.73                                         3.42                                          12.82                                         OK                                                          838.4                                                       458.4                                                       157.0                                                       430.8                                                       430.5                                                       431.1                                                       244.490                                                     244.490                                                     244.490                                       289                                           50                                            0.0                                         123.4                                       50.0                                        92.2                                        289                                         50                                          128.0                                   57.2                           4                                    191                             1                              IVI-OB6         Fill2 Dispenser      Fill2 dispenser #1  AJX75334507         4BPM0210-1       1                    OK                     240                                       33                                        -90                                       50                               1020                                          33                                            0                                             1020                                        33                                          90                                          0                                               0                                                      0.0                                                    0                                                      0                                             0.0                                           0                                             OK                                                          835.5                                                       458.0                                                       156.0                                                       428.0                                                       427.9                                                       428.0                                                       243.7                                                       243.7                                                       243.7                                         270                                            50                                           -10                                         119                                         50.0                                        91.8                                        270                                         50                                          85.0                                    19.6                           4                                    191                             1                              Normal    1\n",
       "                                                                                                                                                                                                                                                                                                                                                                                                                                                                                                                                                                                                                                                                                                                                                                                                                                                                                                                                                                                                                                                                                                                                                                                                                                                                                                                                                                                                                                                                                                                                                                                                                                                                                                                                                                                                                                                                                                                                                                                                                                                                                                                                                                                                                                                                                                                                                                                                                                                                                                                                                                                                                                                                                                                                                                                                                                                                                                                                                                                                                                                                                                                                                                                                                                                                                                                                                                                                                                                                                                                                                                                                                                                                                                                                                                                                                                                                                                                                                                                                                                                                                                                                                                                                                                                                                                                                                                                                                                                                                                                                                                                                                                                                                                                                                                                                                                                                                                                                                                                                                                                                                                                                                                                                                                                                                                                                                                                                                                                                                                                                                                                                                                                                                                                                                                                                                                                                                                                                                                                                                                                                                                                                                                                                                                                                                                                                                                                                                                                                                                                                                                                                                                                                                                                                                                                                                                                                                                                                                                                                                                                                                                                                                                                                                                                                                                                                                                                                                                                                                                                                                                                                                                                                                                                                                                                                                                                                                                     ..\n",
       "                                                   AJX75334501       3I1X9722-1     1                  OK                   240.0                                   2.5                                     -90                                     70                             1150                                        33.5                                        0                                           1030                                      33.5                                      -90                                       10                                            9.7                                                  5.0                                                  9.7                                                  0.67                                        0.35                                        0.67                                        550                                                       463.5                                                     160.5                                                     377.3                                                     377.3                                                     377.3                                                     282.15                                                    282.150                                                   282.150                                                   257.000                                     66                                          0                                           127.5                                     66.0                                      130.85                                    257.00                                    66                                        130.85                                    505.00                                   300.0                                    265.0                                    54.70                                 1.0                          122                                1                             9000                                              9000                                              9000                                              9000                                              9000                                            9000                                            9000                                            9000                                            9000                                              9000                                              9000                                              9000                                              9000                                            9000                                            9000                                            9000                                            9000                                              9000                                              9000                                              9000                                              9000                                            9000                                            9000                                            9000                                            0                               0.0                             0.0                             7.0                          IVI-OB6             Auto Clave Out           Auto Clave Out       AJX75334501             3I1X9722-1           1                        OK                         0.299                                  241                                            OK                                  0.301                                  121                               OK                                  0.501                                  121                               OK                                  47                                      483                                NG                                   IVI-OB6         Fill1 Dispenser      Fill1 dispenser #1  AJX75334501         3I1X9722-1       1                    OK                     10.6                                            13.5                                                   3.6                                                    13.4                                                   12.82                                         3.42                                          12.73                                         838.4                                                       458.5                                                       157.0                                                       430.5                                                       431.1                                                       430.8                                                       244.2                                                       244.200                                                     244.200                                                     289.000                                       50                                            0                                             123.4                                       50.0                                        92.2                                        289.0                                       50                                          145                                         51.9                                    1.0                            122                                  1                               7                              IVI-OB6         Fill2 Dispenser      Fill2 dispenser #1  AJX75334501         3I1X9722-1       1                    OK                     240                                       33                                        -90                                       50                               1020                                          32                                            0                                             1020                                        32                                          90                                          0                                               0                                                      0.0                                                    0                                                      0                                             0.0                                           0                                             835.5                                                       458.0                                                       156.0                                                       428.0                                                       427.9                                                       428.0                                                       243.7                                                       243.7                                                       243.7                                                       270.0                                         50                                            -10                                            119                                        50                                          91.8                                        270.0                                       50                                          85                                          19.4                                    1.0                            122                                  1                               0                              Normal    1\n",
       "                                                                                                                                                                                                                                                                                                                                                                                                                                                                                                                                                                                                                                                                                                                                                                                                                                                                                                                                                                                                                                                                                                                                                                                                                                                                                                                                                                                                                                                                                                                                                                                                                                                                                                                                                                                                                                                                                                                                                                           54.60                                 7.0                          144                                1                             9000                                              9000                                              9000                                              9000                                              9000                                            9000                                            9000                                            9000                                            9000                                              9000                                              9000                                              9000                                              9000                                            9000                                            9000                                            9000                                            9000                                              9000                                              9000                                              9000                                              9000                                            9000                                            9000                                            9000                                            0                               0.0                             0.0                             7.0                          IVI-OB6             Auto Clave Out           Auto Clave Out       AJX75334501             3I1X9722-1           1                        OK                         0.300                                  241                                            OK                                  0.302                                  121                               OK                                  0.499                                  121                               OK                                  49                                      483                                NG                                   IVI-OB6         Fill1 Dispenser      Fill1 dispenser #1  AJX75334501         3I1X9722-1       1                    OK                     10.6                                            13.5                                                   3.6                                                    13.5                                                   12.82                                         3.42                                          12.82                                         838.4                                                       458.5                                                       157.0                                                       430.5                                                       431.1                                                       430.8                                                       244.2                                                       244.200                                                     244.200                                                     289.000                                       50                                            0                                             123.4                                       50.0                                        92.2                                        289.0                                       50                                          145                                         51.8                                    7.0                            144                                  1                               7                              IVI-OB6         Fill2 Dispenser      Fill2 dispenser #1  AJX75334501         3I1X9722-1       1                    OK                     240                                       33                                        -90                                       50                               1020                                          32                                            0                                             1020                                        32                                          90                                          0                                               0                                                      0.0                                                    0                                                      0                                             0.0                                           0                                             835.5                                                       458.0                                                       156.0                                                       428.0                                                       427.9                                                       428.0                                                       243.7                                                       243.7                                                       243.7                                                       270.0                                         50                                            -10                                            119                                        50                                          91.8                                        270.0                                       50                                          85                                          19.8                                    7.0                            144                                  1                               0                              Normal    1\n",
       "                                                                                                                                                                                                                                                                                                                                                                                                                                                                                                                                                                                                                                                        4.9                                                  9.7                                                  0.67                                        0.34                                        0.67                                        550                                                       463.5                                                     160.5                                                     377.3                                                     377.3                                                     377.3                                                     282.15                                                    282.150                                                   282.150                                                   257.000                                     66                                          0                                           127.5                                     66.0                                      130.85                                    257.00                                    66                                        130.85                                    505.00                                   300.0                                    265.0                                    157.20                                3.0                          72                                 1                             9000                                              9000                                              9000                                              9000                                              9000                                            9000                                            9000                                            9000                                            9000                                              9000                                              9000                                              9000                                              9000                                            9000                                            9000                                            9000                                            9000                                              9000                                              9000                                              9000                                              9000                                            9000                                            9000                                            9000                                            0                               0.0                             0.0                             7.0                          IVI-OB6             Auto Clave Out           Auto Clave Out       AJX75334501             3I1X9722-1           1                        OK                         0.302                                  241                                            OK                                  0.303                                  121                               OK                                  0.501                                  121                               OK                                  54                                      483                                OK                                   IVI-OB6         Fill1 Dispenser      Fill1 dispenser #1  AJX75334501         3I1X9722-1       1                    OK                     10.6                                            13.5                                                   3.6                                                    13.4                                                   12.82                                         3.42                                          12.73                                         838.4                                                       458.5                                                       157.0                                                       430.5                                                       431.1                                                       430.8                                                       244.2                                                       244.200                                                     244.200                                                     289.000                                       50                                            0                                             123.4                                       50.0                                        92.2                                        289.0                                       50                                          145                                         56.6                                    3.0                            72                                   1                               7                              IVI-OB6         Fill2 Dispenser      Fill2 dispenser #1  AJX75334501         3I1X9722-1       1                    OK                     240                                       33                                        -90                                       50                               1020                                          32                                            0                                             1020                                        32                                          90                                          0                                               0                                                      0.0                                                    0                                                      0                                             0.0                                           0                                             835.5                                                       458.0                                                       156.0                                                       428.0                                                       427.9                                                       428.0                                                       243.7                                                       243.7                                                       243.7                                                       270.0                                         50                                            -10                                            119                                        50                                          91.8                                        270.0                                       50                                          85                                          19.7                                    3.0                            72                                   1                               0                              Normal    1\n",
       "                                                                                                                                                                                                                                                                                                                                                                                                                                                                                                                                                                                                                                                                                                                                                                                                                                                                                                                                                                                                                                                                                                                                                                                                                                                                                                                                                                                                                                                                                                                                                                                                                                                                                                                                                                                                                                                                                                                                                                           59.00                                 8.0                          24                                 1                             9000                                              9000                                              9000                                              9000                                              9000                                            9000                                            9000                                            9000                                            9000                                              9000                                              9000                                              9000                                              9000                                            9000                                            9000                                            9000                                            9000                                              9000                                              9000                                              9000                                              9000                                            9000                                            9000                                            9000                                            0                               0.0                             0.0                             7.0                          IVI-OB6             Auto Clave Out           Auto Clave Out       AJX75334501             3I1X9722-1           1                        OK                         0.309                                  241                                            OK                                  0.310                                  121                               OK                                  0.501                                  121                               OK                                  55                                      483                                OK                                   IVI-OB6         Fill1 Dispenser      Fill1 dispenser #1  AJX75334501         3I1X9722-1       1                    OK                     10.6                                            13.5                                                   3.6                                                    13.5                                                   12.82                                         3.42                                          12.82                                         838.4                                                       458.5                                                       157.0                                                       430.5                                                       431.1                                                       430.8                                                       244.2                                                       244.200                                                     244.200                                                     289.000                                       50                                            0                                             123.4                                       50.0                                        92.2                                        289.0                                       50                                          145                                         56.6                                    8.0                            24                                   1                               7                              IVI-OB6         Fill2 Dispenser      Fill2 dispenser #1  AJX75334501         3I1X9722-1       1                    OK                     240                                       33                                        -90                                       50                               1020                                          32                                            0                                             1020                                        32                                          90                                          0                                               0                                                      0.0                                                    0                                                      0                                             0.0                                           0                                             835.5                                                       458.0                                                       156.0                                                       428.0                                                       427.9                                                       428.0                                                       243.7                                                       243.7                                                       243.7                                                       270.0                                         50                                            -10                                            119                                        50                                          91.8                                        270.0                                       50                                          85                                          19.6                                    8.0                            24                                   1                               0                              Normal    1\n",
       "                                 Dam dispenser #2  AJX75334508       4BPM0002-1     1                  OK                   1000.0                                  12.5                                     90                                     100                            1150                                        33.5                                        0                                           280                                       33.5                                       90                                       16                                            14.7                                                 8.6                                                  14.7                                                 1.02                                        0.60                                        1.02                                        OK                                                        162.4                                                     465.4                                                     551.7                                                     1271.8                                                    1383.9                                                    1271.80                                                   274.330                                                   274.330                                                   274.330                                     257                                         66                                          0.0                                       127.5                                     66.00                                     124.00                                    257                                       66.00                                     130.85                                   505.0                                    300.0                                    265.02                                78.6                         10                                 198                           1                                                 5800                                              5800                                              5800                                              5800                                            5800                                            5800                                            5800                                            5800                                              5300                                              5300                                              5300                                              5300                                            5300                                            5300                                            5300                                            5300                                              5800                                              5800                                              5800                                              5800                                            5800                                            5800                                            5800                                            5800                            0.0                             0.0                             0.0                          IVI-OB6             Auto Clave Out           Auto Clave Out       AJX75334508             4BPM0002-1           1                        OK                         0.301                                  241                                            OK                                  0.492                                  1                                 OK                                  0.496                                  121                               OK                                  54                                      363                                OK                                   IVI-OB6         Fill1 Dispenser      Fill1 dispenser #2  AJX75334508         4BPM0002-1       1                    OK                     10.6                                            13.5                                                   3.6                                                    13.4                                                   12.82                                         3.42                                          12.73                                         OK                                                          837.9                                                       458.1                                                       156.1                                                       1323.5                                                      1322.5                                                      1323.1                                                      244.415                                                     244.415                                                     244.415                                       289                                           50                                            0.0                                         123.4                                       50.0                                        92.2                                        289                                         50                                          128.0                                   58.6                           10                                   198                             1                              IVI-OB6         Fill2 Dispenser      Fill2 dispenser #2  AJX75334508         4BPM0002-1       1                    OK                     240                                       33                                        -90                                       50                               1020                                          33                                            0                                             1020                                        33                                          90                                          0                                               0                                                      0.0                                                    0                                                      0                                             0.0                                           0                                             OK                                                          305.0                                                       499.8                                                       694.0                                                       1324.2                                                      1324.2                                                      1324.2                                                      243.5                                                       243.5                                                       243.5                                         270                                            50                                           -10                                         119                                         50.0                                        91.8                                        270                                         50                                          85.0                                    19.7                           10                                   198                             1                              Normal    1\n",
       "Name: count, Length: 27740, dtype: int64"
      ]
     },
     "execution_count": 25,
     "metadata": {},
     "output_type": "execute_result"
    }
   ],
   "source": [
    "train.value_counts()"
   ]
  },
  {
   "cell_type": "code",
   "execution_count": 26,
   "metadata": {},
   "outputs": [
    {
     "name": "stdout",
     "output_type": "stream",
     "text": [
      "35\n"
     ]
    }
   ],
   "source": [
    "# 전부 다 다른 column과 전부 다 같은 column도 드롭\n",
    "print(len(train.columns[(train.nunique()==1)|(train.nunique()==len(train))]))\n",
    "train.drop(columns=train.columns[(train.nunique()==1)|(train.nunique()==len(train))],inplace=True)"
   ]
  },
  {
   "cell_type": "code",
   "execution_count": 27,
   "metadata": {},
   "outputs": [
    {
     "data": {
      "text/plain": [
       "Index(['HEAD NORMAL COORDINATE X AXIS(Stage1) Collect Result_Dam',\n",
       "       'HEAD NORMAL COORDINATE X AXIS(Stage1) Collect Result_Fill1',\n",
       "       'HEAD NORMAL COORDINATE X AXIS(Stage1) Collect Result_Fill2'],\n",
       "      dtype='object')"
      ]
     },
     "execution_count": 27,
     "metadata": {},
     "output_type": "execute_result"
    }
   ],
   "source": [
    "train_fill_col = train.columns[train.isna().sum(axis=0)>0]\n",
    "train_fill_col"
   ]
  },
  {
   "cell_type": "code",
   "execution_count": 28,
   "metadata": {},
   "outputs": [
    {
     "data": {
      "text/plain": [
       "Index(['HEAD NORMAL COORDINATE X AXIS(Stage1) Collect Result_Dam',\n",
       "       'HEAD NORMAL COORDINATE X AXIS(Stage1) Collect Result_Fill1',\n",
       "       'HEAD NORMAL COORDINATE X AXIS(Stage1) Collect Result_Fill2'],\n",
       "      dtype='object')"
      ]
     },
     "execution_count": 28,
     "metadata": {},
     "output_type": "execute_result"
    }
   ],
   "source": [
    "no_agreement_col_list = train.columns[(train.applymap(lambda x: type(x).__name__).nunique()>1).values]\n",
    "no_agreement_col_list"
   ]
  },
  {
   "cell_type": "code",
   "execution_count": 29,
   "metadata": {},
   "outputs": [],
   "source": [
    "condition = (train.loc[:,no_agreement_col_list] != 'OK')"
   ]
  },
  {
   "cell_type": "code",
   "execution_count": 30,
   "metadata": {},
   "outputs": [],
   "source": [
    "replace_list = []\n",
    "replace_list.append(train.loc[condition.iloc[:,0],no_agreement_col_list[0]].dropna().astype('float').mean())\n",
    "replace_list.append(train.loc[condition.iloc[:,0],no_agreement_col_list[0]].dropna().astype('float').mean())\n",
    "replace_list.append(train.loc[condition.iloc[:,0],no_agreement_col_list[0]].dropna().astype('float').mean())"
   ]
  },
  {
   "cell_type": "code",
   "execution_count": 31,
   "metadata": {},
   "outputs": [],
   "source": [
    "train.loc[:,no_agreement_col_list[0]] = train.loc[:,no_agreement_col_list[0]].replace({'OK':replace_list[0]})\n",
    "train.loc[:,no_agreement_col_list[1]] = train.loc[:,no_agreement_col_list[1]].replace({'OK':replace_list[1]})\n",
    "train.loc[:,no_agreement_col_list[2]] = train.loc[:,no_agreement_col_list[2]].replace({'OK':replace_list[2]})"
   ]
  },
  {
   "cell_type": "code",
   "execution_count": 32,
   "metadata": {},
   "outputs": [],
   "source": [
    "# 결측치 평균으로 제거\n",
    "train.loc[:,no_agreement_col_list[0]].fillna(replace_list[0],inplace=True)\n",
    "train.loc[:,no_agreement_col_list[1]].fillna(replace_list[1],inplace=True)\n",
    "train.loc[:,no_agreement_col_list[2]].fillna(replace_list[2],inplace=True)"
   ]
  },
  {
   "cell_type": "code",
   "execution_count": 33,
   "metadata": {},
   "outputs": [],
   "source": [
    "train.reset_index(inplace=True,drop=True)"
   ]
  },
  {
   "cell_type": "code",
   "execution_count": 58,
   "metadata": {},
   "outputs": [],
   "source": [
    "A = train.loc[train['target']=='Normal','Workorder_Dam'].value_counts().values"
   ]
  },
  {
   "cell_type": "code",
   "execution_count": 59,
   "metadata": {},
   "outputs": [],
   "source": [
    "B = train.loc[train['target']=='AbNormal','Workorder_Dam'].value_counts().values"
   ]
  },
  {
   "cell_type": "code",
   "execution_count": 60,
   "metadata": {},
   "outputs": [
    {
     "data": {
      "text/plain": [
       "661"
      ]
     },
     "execution_count": 60,
     "metadata": {},
     "output_type": "execute_result"
    }
   ],
   "source": [
    "len(A)"
   ]
  },
  {
   "cell_type": "code",
   "execution_count": 61,
   "metadata": {},
   "outputs": [
    {
     "data": {
      "text/plain": [
       "519"
      ]
     },
     "execution_count": 61,
     "metadata": {},
     "output_type": "execute_result"
    }
   ],
   "source": [
    "len(B)"
   ]
  },
  {
   "cell_type": "code",
   "execution_count": 62,
   "metadata": {},
   "outputs": [
    {
     "data": {
      "text/plain": [
       "149"
      ]
     },
     "execution_count": 62,
     "metadata": {},
     "output_type": "execute_result"
    }
   ],
   "source": [
    "import numpy as np\n",
    "cnt = 0\n",
    "for item in A:\n",
    "    if item in B:\n",
    "        cnt+=1\n",
    "cnt"
   ]
  },
  {
   "cell_type": "code",
   "execution_count": 40,
   "metadata": {},
   "outputs": [
    {
     "data": {
      "text/plain": [
       "[<matplotlib.lines.Line2D at 0x7ff118d62e80>]"
      ]
     },
     "execution_count": 40,
     "metadata": {},
     "output_type": "execute_result"
    },
    {
     "data": {
      "image/png": "[encoded data removed]",
      "text/plain": [
       "<Figure size 640x480 with 1 Axes>"
      ]
     },
     "metadata": {},
     "output_type": "display_data"
    }
   ],
   "source": [
    "plt.plot(train.loc[train['target']=='AbNormal','Workorder_Dam'].value_counts().values)"
   ]
  },
  {
   "cell_type": "code",
   "execution_count": null,
   "metadata": {},
   "outputs": [],
   "source": []
  }
 ],
 "metadata": {
  "kernelspec": {
   "display_name": "sj_virtual",
   "language": "python",
   "name": "python3"
  },
  "language_info": {
   "codemirror_mode": {
    "name": "ipython",
    "version": 3
   },
   "file_extension": ".py",
   "mimetype": "text/x-python",
   "name": "python",
   "nbconvert_exporter": "python",
   "pygments_lexer": "ipython3",
   "version": "3.8.19"
  }
 },
 "nbformat": 4,
 "nbformat_minor": 2
}
